{
 "cells": [
  {
   "cell_type": "code",
   "execution_count": 2,
   "id": "154d03c9",
   "metadata": {},
   "outputs": [],
   "source": [
    "import pandas as pd"
   ]
  },
  {
   "cell_type": "code",
   "execution_count": 3,
   "id": "324c927b",
   "metadata": {},
   "outputs": [],
   "source": [
    "# input_file = \"../data/task_sources.csv\"\n",
    "# output_file = \"../data/summaries.csv\"\n",
    "input_file = \"../data/input_sample.csv\"\n",
    "output_file = \"../data/output_sample.csv\"\n",
    "output_file_langchain = \"../data/out_langchain.csv\"\n",
    "output_translations_file = \"../data/output_translations.csv\"\n",
    "output_compressed_descriptions_file = \"../data/compressed_descriptions.csv\"\n",
    "idx_test = 1"
   ]
  },
  {
   "cell_type": "code",
   "execution_count": 4,
   "id": "ce97be12",
   "metadata": {},
   "outputs": [],
   "source": [
    "df_in = pd.read_csv(input_file)\n",
    "df_out = pd.read_csv(output_file)\n",
    "df_out_langchain = pd.read_csv(output_file_langchain)\n",
    "# df_translations = pd.read_csv(output_translations_file)\n",
    "df_compressed = pd.read_csv(output_compressed_descriptions_file)"
   ]
  },
  {
   "cell_type": "code",
   "execution_count": 5,
   "id": "e3ccc23d",
   "metadata": {},
   "outputs": [
    {
     "name": "stdout",
     "output_type": "stream",
     "text": [
      "How to use biochar as a water contaminants detoxifier in fish farming This website uses cookies [#IABV2_TITLE#] Lambert Aliginia Aquatic pollution, causes, and effects on fish farming Methods of regulating contaminants in aquaculture facilities Join our editorial team Latest Articles Relevant Articles Welcome to Wikifarmer Sign in Password reset Agricultural and Environmental sustainability certification specialist Biochar as a detoxifier in fish culture facilities Advantages and Significance of Biochar in Fish Facilities OUR PARTNERS Are you a farmer? Pictures of Biochar sacks in fishpond Toxic contaminants end up in our state’s waterbodies in different ways. Industrial and municipal discharges, agricultural practices, and stormwater runoff can all put harmful substances into the water. Rain can also wash chemicals from the land or air into streams, rivers, lakes, and Puget Sound. Toxic contaminants enter our state’s waters in a variety of ways. Industrial and municipal waste, agricultural activities, and stormwater runoff can all release toxic substances into water. Rain can also wash chemicals from the soil or air into streams, rivers, and lakes. Contaminants such as polychlorinated biphenyls (PCBs), polybrominated diphenyl ethers, dioxins, and chlorinated pesticides are present in water, sediment, and food consumed by fish. In polluted areas, bottom fish (certain fish species that live at or near the bottom of a body of water) are especially likely to contain high levels of these chemicals because these substances settle to the bottom where they feed. The health risk to humans eating contaminated fish and seafood is that contaminants can build up in the human body over time. It can take five years or more for women in their childbearing years to rid their bodies of PCBs, and 6-12 months to reduce their mercury levels significantly. Mercury, PCBs, and other contaminants can be passed on to a developing fetus through the placenta. The increasing global contamination of water systems by industrial or natural substances constitutes one of humanity’s major environmental problems. Most of these aqueous substances exist in low concentrations; however, their long-term contamination can cause severe toxicity problems. Water quality assessment requires the implementation of appropriate and cost-effective technologies to effectively remove microscopic pollutants while ensuring the maintenance of essential components of aquatic life, such as the presence of individual minerals, etc. Developing such technologies often involves dangerous chemicals that are not environmentally friendly. Therefore, there is an urgent need for suitable “functional” ecological materials that can easily reduce the number of micropollutants in aquatic systems. Commonly used functional materials have significant limitations due to their dependence on fossil fuels and energy-intensive melting conditions. A renewable carbon-rich biomaterial that could be a promising alternative to other carbon materials used in the production of water pollution treatment equipment has been proposed to solve the problem. 1. Biochar – The physical and chemical properties of Biochar has high charge and surface area, making it ideal for pond water treatment in the same way that Biochar is used in activated carbon filtration in potable water. Biochar is great at absorbing pesticides and fertilizers to help keep your waterways free of harmful compounds and has demonstrated its potential to remove heavy metal ions from water. Biochar is a carbon-rich material produced from the pyrolysis of biomass in a closed system by a reduction reaction. This material is called “biochar” and is defined as the fine-grained carbon and ash biological product obtained from anaerobic biomass digestion. Biochar material has strong water and nutrient adsorption capacity, is very stable, and can also remove organic/inorganic pollutants. Aquaculture has developed many different fish production systems and is very popular in recent decades. These systems were developed to increase productivity by increasing fish density, which raises the issue of toxicity of wastewater discharged into aquatic ecosystems. Therefore, one solution to this problem is to integrate the aquaculture system with the toxicity control method of Biochar, where Biochar can adsorb and dissolve compounds from wastewater. Soluble compounds contain two main components: nitrogen and phosphorus compounds from fish feed. Nitrogen and phosphorus are retained in the fish’s body, and a certain amount is released into the culture water, over time causing eutrophication. Eutrophication refers to the process by which water gradually accumulates high nitrogen and phosphorus concentrations. This process can lead to a decrease in oxygen in the water after the algae is decomposed by bacteria. Aquabiochar refers to the integration of aquaculture and biochar as water toxicity regulators and detoxifiers. 2. Biofloc technology (BFT) is considered the new “green revolution” because nutrients can be continuously recycled and reused in the growing medium, benefiting from minimal or no water changes. Furthermore, the sustainable approach of such a system depends on high fish/shrimp production in small areas. In addition, bioflocs provide a food source rich in natural proteins and lipids that are locally available 24 hours a day due to the complex interactions between organic matter, physical substrates, and various microorganisms. This natural productivity plays an important role in recycling nutrients and maintaining water quality. Biofloc technology (BFT) systems have emerged as practical and inexpensive solutions to meet the above prerequisites for sustainable aquaculture development. BFT works on the accumulation of inorganic nitrogen, one of the main problems faced in the aquaculture industry. Conclusion Biochar is the most effective and environmentally friendly method of eliminating toxicities in aquatic facilities while creating a conducive breeding ecology for fish reproduction. This method seeks to protect consumers by purifying the water and absorbing contaminants from water bodies and fishes which tends to affect consumers that feed on contaminated fishes. References Join our community and contribute to Wikifarmer, a platform based on the knowledge of a diverse community of farmers and people working in the agricultural industry from all over the world. We join forces with N.G.O.s, Universities, and other organizations globally to fulfill our common mission on sustainability and human welfare. Wikifarmer is a global platform with the mission of empowering farmers through educating them and offering them access to the open market to sell their products at fair prices. Sell your agricultural products online Copyright © 2017 – 2023 Wikifarmer, All Rights Reserved Join Wikifarmer to become a member of the most accredited source of free agricultural knowledge. By signing-up, you agree to the Wikifarmer User Agreement and Privacy Policy Already have an account? Click here to login. Forgot your password? Click here. Not a member yet, click here to sign up. Please enter your email below. Once submitted, you will receive an email containing the instructions to recover your account. Necessary Preferences Statistics Marketing 15 CookieConsent Stores the user's cookie consent state for the current domain Expiry: 1 year Type: HTTP _GRECAPTCHA This cookie is used to distinguish between humans and bots. This is beneficial for the website, in order to make valid reports on the use of their website. Expiry: 180 days rc::e This cookie is used to distinguish between humans and bots. Expiry: Session Type: HTML _grecaptcha Expiry: Persistent rc::a rc::b rc::c CONSENT Used to detect if the visitor has accepted the marketing category in the cookie banner. This cookie is necessary for GDPR-compliance of the website. Expiry: 2 years laravel_session This cookie is used internally by the website’s owners, when uploading or renewing website content. Expiry: 1 day XSRF-TOKEN Ensures visitor browsing-security by preventing cross-site request forgery. This cookie is essential for the security of the website and visitor. cookietest This cookie is used to determine if the visitor has accepted the cookie consent box. ip2location_redirection_first_visit Used to redirect users based on their location. sid_customer_6666c Used to authenticate users. Expiry: 14 days wf_splash_screen Used to remember if user has already seen the splash screen. Expiry: 2 days wpEmojiSettingsSupports This cookie is part of a bundle of cookies which serve the purpose of content delivery and presentation. The cookies keep the correct state of font, blog/picture sliders, color themes and other website settings. 1 __3perf_googleFontsStylesheet The cookie is used in context with the local-storage function in the browser. This function allows the website to load faster by pre-loading certain procedures. 11 collect Used to send data to Google Analytics about the visitor's device and behavior. Tracks the visitor across devices and marketing channels. Type: Pixel _ga Registers a unique ID that is used to generate statistical data on how the visitor uses the website. _ga_# Used by Google Analytics to collect data on the number of times a user has visited the website as well as dates for the first and most recent visit. _gat Used by Google Analytics to throttle request rate _gid td Registers statistical data on users' behaviour on the website. Used for internal analytics by the website operator. __cf_bm __hssc Identifies if the cookie data needs to be updated in the visitor's browser. __hssrc Used to recognise the visitor's browser upon reentry on the website. __hstc Sets a unique ID for the session. This allows the website to obtain data on visitor behaviour for statistical purposes. hubspotutk 37 lastExternalReferrer Detects how the user reached the website by registering their last URL-address. lastExternalReferrerTime _fbp Used by Facebook to deliver a series of advertisement products such as real time bidding from third party advertisers. Expiry: 3 months IDE Used by Google DoubleClick to register and report the website user's actions after viewing or clicking one of the advertiser's ads with the purpose of measuring the efficacy of an ad and to present targeted ads to the user. pagead/landing Collects data on visitor behaviour from multiple websites, in order to present more relevant advertisement - This also allows the website to limit the number of times that they are shown the same advertisement. pcs/view Used by DoubleClick to determine whether website advertisement has been properly displayed - This is done to make their marketing efforts more efficient. test_cookie Used to check if the user's browser supports cookies. ads/ga-audiences Used by Google AdWords to re-engage visitors that are likely to convert to customers based on the visitor's online behaviour across websites. pagead/1p-user-list/# Tracks if the user has shown interest in specific products or events across multiple websites and detects how the user navigates between sites. This is used for measurement of advertisement efforts and facilitates payment of referral-fees between websites. rc::h Pending pagead/gen_204 pcs/activeview csi Collects data on visitors' preferences and behaviour on the website - This information is used make content and advertisement more relevant to the specific visitor. rc::f __gads Used to register what ads have been displayed to the user. __gpi Collects information on user behaviour on multiple websites. This information is used in order to optimize the relevance of advertisement on the website. _gcl_au Used by Google AdSense for experimenting with advertisement efficiency across websites using their services. GoogleAdServingTest __ptq.gif Sends data to the marketing platform Hubspot about the visitor's device and behaviour. Tracks the visitor across devices and marketing channels. LAST_RESULT_ENTRY_KEY Used to track user’s interaction with embedded content. LogsDatabaseV2:V#||LogsRequestsStore Type: IDB nextId remote_sid Necessary for the implementation and functionality of YouTube video-content on the website. requests TESTCOOKIESENABLED VISITOR_INFO1_LIVE Tries to estimate the users' bandwidth on pages with integrated YouTube videos. VISITOR_PRIVACY_METADATA YSC Registers a unique ID to keep statistics of what videos from YouTube the user has seen. yt.innertube::nextId YtIdbMeta#databases yt-remote-cast-available Stores the user's video player preferences using embedded YouTube video yt-remote-cast-installed yt-remote-connected-devices yt-remote-device-id yt-remote-fast-check-period yt-remote-session-app yt-remote-session-name 4 rfp_final_page vendor_locations.customer_geolocation vendor_locations.customer_locality lg_cookie [#BULK_CONSENT_DOMAINS_COUNT#] List of domains your consent applies to: Do not sell or share my personal information Cookiebot by Usercentrics ENGLISH ESPAÑOL FRANÇAIS DEUTSCH NEDERLANDS हिन्दी العربية TÜRK 简体中文 РУССКИЙ ITALIANO ΕΛΛΗΝΙΚΑ PORTUGUÊS TIẾNG VIỆT INDONESIA 한국어 POLSKI MARKET Aquaculture Share it: Tags: Aquabiochar aquaculture biochar Toxicities sign up with Google sign up with Facebook Sign up sign in with Google sign in with Facebook Reset password\n"
     ]
    }
   ],
   "source": [
    "print(df_in.iloc[idx_test].text)"
   ]
  },
  {
   "cell_type": "code",
   "execution_count": 6,
   "id": "fb7c60e6",
   "metadata": {
    "scrolled": false
   },
   "outputs": [
    {
     "name": "stdout",
     "output_type": "stream",
     "text": [
      "Toxic contaminants end up in our state’s waterbodies in different ways. Contaminants such as polychlorinated biphenyls (PCBs) are present in water, sediment, and food consumed by fish. Mercury, PCBs, and other contaminants can be passed on to a developing fetus through the placenta. Aquaculture and biochar are water toxicity regulators and detoxifiers. Biochar can adsorb and dissolve compounds from wastewater. Biofloc technology (BFT) is considered the new ‘green revolution’ because nutrients can be continuously recycled and reused in the growing medium, benefiting from minimal or no water changes. Biochar is the most effective and environmentally friendly method of eliminating toxicities in aquatic facilities while creating a conducive breeding ecology for fish reproduction. This method seeks to protect consumers by purifying the water and absorbing contaminants from water bodies and fishes which tends to affect consumers that feed on contaminated fishes. Join our community and contribute to Wikifarmer, a platform based on the knowledge of a diverse community of farmers and people working in the agricultural industry from all over the world. We join forces with N.G.O.s, Universities, and other organizations globally to fulfill our common mission on sustainability and human welfare. By signing-up, you agree to the Wik ifarmer User Agreement and Privacy Policy. Google AdServingTest sends data to marketing platform Hubspot about the visitor's device and behaviour. Tracks the visitor across devices and marketing channels. Tries to estimate the users' bandwidth on pages with integrated YouTube videos. Necessary for the implementation and functionality of YouTube video-content. requests TESTCOOKIESENABLED VISITOR_INFO1_LIVE. Used to track user’s interaction with embedded content. LogsDatabaseV2:V#||LogsRequestsStore Type: IDB nextId remote_sid. Last_RESULT_ENTRY_KEY used to track users’ interaction withembedded content.\n"
     ]
    }
   ],
   "source": [
    "print(df_compressed.iloc[idx_test].compressed_descriptions)"
   ]
  },
  {
   "cell_type": "code",
   "execution_count": 7,
   "id": "3aab5149",
   "metadata": {},
   "outputs": [
    {
     "name": "stdout",
     "output_type": "stream",
     "text": [
      "No clear answer found\n",
      "No clear answer found\n",
      "No clear answer found\n"
     ]
    }
   ],
   "source": [
    "print(df_out.iloc[idx_test].summary)"
   ]
  },
  {
   "cell_type": "code",
   "execution_count": 9,
   "id": "a87f5d4d",
   "metadata": {},
   "outputs": [
    {
     "name": "stdout",
     "output_type": "stream",
     "text": [
      "'PROBLEM: The harmful effects of aquatic pollution on fish farming and the need for methods to control these contaminants.\n",
      "\n",
      "SOLUTION: The use of biochar, a carbon-rich material, and Biofloc technology (BFT) to detoxify water contaminants in fish farming. Biochar can absorb pesticides and fertilizers, keeping waterways free from harmful compounds, and has shown potential to remove heavy metal ions from water. BFT allows for the continuous recycling and reuse of nutrients in the growth medium, with little or no water changes.\n",
      "\n",
      "TARGET USERS: Fish farmers and aquaculture industry.\n",
      "\n",
      "OTHER DETAILS: Biochar is an effective and environmentally friendly method of eliminating toxicities in aquatic facilities, creating a conducive breeding environment for fish reproduction. This method also protects consumers by purifying the water and absorbing contaminants from water bodies and fish, which can affect consumers who eat contaminated fish.'\n"
     ]
    }
   ],
   "source": [
    "print(df_out_langchain.iloc[idx_test].summaries)"
   ]
  },
  {
   "cell_type": "code",
   "execution_count": null,
   "id": "62e5ee25",
   "metadata": {},
   "outputs": [],
   "source": []
  }
 ],
 "metadata": {
  "kernelspec": {
   "display_name": "Python 3 (ipykernel)",
   "language": "python",
   "name": "python3"
  },
  "language_info": {
   "codemirror_mode": {
    "name": "ipython",
    "version": 3
   },
   "file_extension": ".py",
   "mimetype": "text/x-python",
   "name": "python",
   "nbconvert_exporter": "python",
   "pygments_lexer": "ipython3",
   "version": "3.11.5"
  }
 },
 "nbformat": 4,
 "nbformat_minor": 5
}
