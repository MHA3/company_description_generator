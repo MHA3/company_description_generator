{
 "cells": [
  {
   "cell_type": "code",
   "execution_count": 15,
   "id": "154d03c9",
   "metadata": {},
   "outputs": [],
   "source": [
    "import pandas as pd"
   ]
  },
  {
   "cell_type": "code",
   "execution_count": 16,
   "id": "324c927b",
   "metadata": {},
   "outputs": [],
   "source": [
    "# input_file = \"../data/task_sources.csv\"\n",
    "# output_file = \"../data/summaries.csv\"\n",
    "input_file = \"../data/input_sample.csv\"\n",
    "output_file = \"../data/output_sample.csv\"\n",
    "output_translations_file = \"../data/output_translations.csv\"\n",
    "output_compressed_descriptions_file = \"../data/compressed_descriptions.csv\"\n",
    "idx_test = 0"
   ]
  },
  {
   "cell_type": "code",
   "execution_count": 17,
   "id": "ce97be12",
   "metadata": {},
   "outputs": [],
   "source": [
    "df_in = pd.read_csv(input_file)\n",
    "df_out = pd.read_csv(output_file)\n",
    "# df_translations = pd.read_csv(output_translations_file)\n",
    "df_compressed = pd.read_csv(output_compressed_descriptions_file)"
   ]
  },
  {
   "cell_type": "code",
   "execution_count": 18,
   "id": "e3ccc23d",
   "metadata": {},
   "outputs": [
    {
     "name": "stdout",
     "output_type": "stream",
     "text": [
      "WELCOME TO WIKIFARMER THE MOST ACCREDITED SOURCE OF FREE AGRICULTURAL KNOWLEDGE Most Popular categories Sustainability Smart Farming - AgTech Thesaurus of Sustainability Viticulture Beekeeping Sheep Seed Collection Cereals Vegetables Trees Ornamentals (Flowers) Food Science Thesaurus of Food Science and Supply Chain Featured articles 11 Interesting Facts about Kiwifruit Classification, Marking and Labelling of Eggs Most popular articles Growing Lavender for Profit Food Hygiene Lavender Pruning 8 things to consider when growing Watermelons in your Backyard About Us Videos Most Recent Articles Papaya Plant Care – Irrigation and Fertilization of Papaya plants Papaya propagation and Pollination Papaya Soil Preparation, Planting, and Plant density Papaya plant information Papaya Interesting facts, Nutritional value, and Health benefits Reasons that hampered Global Wheat Production and Supply Potential risks of food packaging plastic waste on human health and the environment Guerrilla gardening Factors to Consider Before Tank Mixing Agrochemicals to Prepare the Spray Solution 7 Modern and efficient ways to protect crops from pests and diseases What is the fortification of milk? 20 Plant-based milk alternatives: Information, Production and Health Benefits The Role of Microbes in Climate-Resilient Agriculture Soil salinization and how farmers can overcome it Biological control of greenhouse pests using natural enemies Nutrient Mobility in Soil and Plants The Significance of Soil Health in Sustainable Agriculture The Importance of Mulching in Vegetable Production What are the SDGs? Papaya Handling, Grading, and Packing Papaya Harvest, Yield and Storage Papaya Plant Major Pests, Diseases and Weeds How to cultivate papayas for profit – Complete production guide Upcoming events Become an author Our Authors Over More than Visitors from over What they say about us Democratizing agriculture Stay constantly updated on a large variety of agricultural topics, upcoming trends, and innovations by attending conferences, webinars, and many more events worldwide. Take a closer look at our list. Are you passionate about farming and ready to share your knowledge, experience, or expertise with a global audience? Join the Wikifarmer community by becoming an author in the largest, user-generated Agricultural platform and help farmers upgrade their production and cultivate more sustainably. Web-traffic Over 18 million unique visitors Networking In collaboration with Universities, NGOs and other organizations worldwide unique users language versions Countries Introducing Wikifarmer: the Wikipedia of Farming. Wikifarmer is the greatest user generated online farming library. Its mission is to help all farmers across the globe to find valuable information regarding their existing or potential crops and livestock. Users can submit a new article, edit an existing article, add pictures or videos, request a new article, ask a question about a related issue, or just browse through hundreds of pages with valuable information. A platform providing farmers/producers with valuable knowledge and access to the markets. A free online knowledge library where professional or amateur farmers can find best practices on growing their fields more effectively and an online marketplace where farmers can sell their products to buyers directly. Wikifarmer, is one of the lab’s most promising tech ventures on the rise. Education is also at the heart of Wikifarmer, a platform that offers quality, specialized content to the agriculture industry. It also acts as a transaction hub for landowners who wish to expand their sales and increase revenue. Regenerative Agriculture: How farmers can benefit and adopt it New breeding technologies and gene-edited crops Pollinators: Farmer's Partner for Sustainable Production International consultant at Business Coaching Lab (specialized in fruit and vegetable cool storage) Industrial Cassava Specialist Agricultural scientist Food Scientist Student, Bsc Agriculture and Forestry Entomologist and chemical ecologist Agriculturalist - Food Scientist, M.Sc. Nanobiotechnology MSc Plant Breeder – Agronomist Sustainability Officer at Federated Commodities Limited PhD Apiculture Trainee in Plant Health Monitoring team-European Food Safety Authority (EFSA) Αdvocate of sustainable agriculture - CEO of Naturnova MSc Agronomist & Oenologist Organization Vineyard manager Environmental Governance and Management, Agribusiness consultant Food labelling expert, Regulatory affairs, Food safety specialist Germination and Greenhouse Supervisor, Sustainability specialist Postdoctoral Researcher in the Institute of Environmental Sciences and Technology in the Universitat Autònoma de Barcelona (ICTA-UAB) Vertical Farming consultant and environmental educator 18 17 195\n"
     ]
    }
   ],
   "source": [
    "print(df_in.iloc[idx_test].text)"
   ]
  },
  {
   "cell_type": "code",
   "execution_count": 19,
   "id": "fb7c60e6",
   "metadata": {
    "scrolled": false
   },
   "outputs": [
    {
     "name": "stdout",
     "output_type": "stream",
     "text": [
      "WELCOME TO WIKIFARMER THE MOST ACCREDITED SOURCE OF FREE AGRICULTURAL KNOWLEDGE Most Popular categories Sustainability Smart Farming - AgTech Thesaurus of Sustainability Viticulture Beekeeping Sheep Seed Collection Cereals Vegetables Trees Ornamentals (Flowers) Food Science Thesaurus of Food Science and Supply Chain Featured articles 11 Interesting Facts about Kiwifruit Classification, Marking and Labelling of Eggs Most popular articles Growing Lavender for Profit Food Hygiene Lavender Pruning 8 things to consider when growing Watermelons in your Backyard About Us Videos Most Recent Articles Papaya Plant Care – Irrigation and Fertilization of Papaya plants Papaya propagation and Pollination Papaya Soil Preparation, Planting, and Plant density Papaya plant information Papaya Interesting facts, Nutritional value, and Health benefits Reasons that hampered Global Wheat Production and Supply Potential risks of food packaging plastic waste on human health and the environment Guerrilla gardening Factors to Consider Before Tank Mixing Agrochemicals to Prepare the Spray Solution 7 Modern and efficient ways to protect crops from pests and diseases What is the fortification of milk? 20 Plant-based milk alternatives: Information, Production and Health Benefits The Role of Microbes in Climate-Resilient Agriculture Soil salinization and how farmers can overcome it Biological control of greenhouse pests using natural enemies Nutrient Mobility in Soil and Plants The Significance of Soil Health in Sustainable Agriculture The Importance of Mulching in Vegetable Production What are the SDGs? Papaya Handling, Grading, and Packing Papaya Harvest, Yield and Storage Papaya Plant Major Pests, Diseases and Weeds How to cultivate papayas for profit – Complete production guide Upcoming events Become an author Our Authors Over More than Visitors from over What they say about us Democratizing agriculture Stay constantly updated on a large variety of agricultural topics, upcoming trends, and innovations by attending conferences, webinars, and many more events worldwide. Take a closer look at our list. Are you passionate about farming and ready to share your knowledge, experience, or expertise with a global audience? Join the Wikifarmer community by becoming an author in the largest, user-generated Agricultural platform and help farmers upgrade their production and cultivate more sustainably. Web-traffic Over 18 million unique visitors Networking In collaboration with Universities, NGOs and other organizations worldwide unique users language versions Countries Introducing Wikifarmer: the Wikipedia of Farming. Wikifarmer is the greatest user generated online farming library. Its mission is to help all farmers across the globe to find valuable information regarding their existing or potential crops and livestock. Users can submit a new article, edit an existing article, add pictures or videos, request a new article, ask a question about a related issue, or just browse through hundreds of pages with valuable information. A platform providing farmers/producers with valuable knowledge and access to the markets. A free online knowledge library where professional or amateur farmers can find best practices on growing their fields more effectively and an online marketplace where farmers can sell their products to buyers directly. Wikifarmer, is one of the lab’s most promising tech ventures on the rise. Education is also at the heart of Wikifarmer, a platform that offers quality, specialized content to the agriculture industry. It also acts as a transaction hub for landowners who wish to expand their sales and increase revenue. Regenerative Agriculture: How farmers can benefit and adopt it New breeding technologies and gene-edited crops Pollinators: Farmer's Partner for Sustainable Production International consultant at Business Coaching Lab (specialized in fruit and vegetable cool storage) Industrial Cassava Specialist Agricultural scientist Food Scientist Student, Bsc Agriculture and Forestry Entomologist and chemical ecologist Agriculturalist - Food Scientist, M.Sc. Nanobiotechnology MSc Plant Breeder – Agronomist Sustainability Officer at Federated Commodities Limited PhD Apiculture Trainee in Plant Health Monitoring team-European Food Safety Authority (EFSA) Αdvocate of sustainable agriculture - CEO of Naturnova MSc Agronomist & Oenologist Organization Vineyard manager Environmental Governance and Management, Agribusiness consultant Food labelling expert, Regulatory affairs, Food safety specialist Germination and Greenhouse Supervisor, Sustainability specialist Postdoctoral Researcher in the Institute of Environmental Sciences and Technology in the Universitat Autònoma de Barcelona (ICTA-UAB) Vertical Farming consultant and environmental educator 18 17 195\n"
     ]
    }
   ],
   "source": [
    "print(df_compressed.iloc[idx_test].translated_description)"
   ]
  },
  {
   "cell_type": "code",
   "execution_count": 20,
   "id": "3aab5149",
   "metadata": {},
   "outputs": [
    {
     "name": "stdout",
     "output_type": "stream",
     "text": [
      " Wikifarmer is the greatest user generated online farming library. Its mission is to help all farmers across the globe to find valuable information regarding their existing or potential crops and livestock. A platform providing farmers/producers with valuable knowledge and access to the markets.\n"
     ]
    }
   ],
   "source": [
    "print(df_out.iloc[idx_test].summary)"
   ]
  },
  {
   "cell_type": "code",
   "execution_count": null,
   "id": "a87f5d4d",
   "metadata": {},
   "outputs": [],
   "source": []
  }
 ],
 "metadata": {
  "kernelspec": {
   "display_name": "Python 3 (ipykernel)",
   "language": "python",
   "name": "python3"
  },
  "language_info": {
   "codemirror_mode": {
    "name": "ipython",
    "version": 3
   },
   "file_extension": ".py",
   "mimetype": "text/x-python",
   "name": "python",
   "nbconvert_exporter": "python",
   "pygments_lexer": "ipython3",
   "version": "3.11.5"
  }
 },
 "nbformat": 4,
 "nbformat_minor": 5
}
